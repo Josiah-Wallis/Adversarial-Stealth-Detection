{
 "cells": [
  {
   "cell_type": "code",
   "execution_count": 1,
   "metadata": {},
   "outputs": [],
   "source": [
    "from distribute_data import Datasets\n",
    "from fedsys import *\n",
    "import matplotlib.pyplot as plt\n",
    "import tensorflow as tf\n",
    "from asd import conv_pca\n",
    "from sklearn.decomposition import PCA\n",
    "#import os\n",
    "#os.environ[\"CUDA_VISIBLE_DEVICES\"]=\"-1\""
   ]
  },
  {
   "cell_type": "code",
   "execution_count": 6,
   "metadata": {},
   "outputs": [],
   "source": [
    "dataHandler = Datasets('digits')\n",
    "data = dataHandler.generate_data(test_size = 0.2, tolerance = 10, client_num = 100)\n",
    "\n",
    "adv_labels = dataHandler.create_adversary(data['Client Train Labels'], 3, 1, 7)\n",
    "adv_labels = dataHandler.create_adversary(adv_labels, 19, 3, 8)\n",
    "adv_labels = dataHandler.create_adversary(adv_labels, 0, 2, 0)\n",
    "adv_labels = dataHandler.create_adversary(adv_labels, 8, 6, 8)"
   ]
  },
  {
   "cell_type": "code",
   "execution_count": 7,
   "metadata": {},
   "outputs": [
    {
     "name": "stdout",
     "output_type": "stream",
     "text": [
      "(297, 28, 28, 1)\n",
      "(480, 28, 28, 1)\n",
      "(594, 28, 28, 1)\n",
      "(277, 28, 28, 1)\n",
      "(2440, 28, 28, 1)\n",
      "(764, 28, 28, 1)\n",
      "(1188, 28, 28, 1)\n",
      "(59, 28, 28, 1)\n",
      "(119, 28, 28, 1)\n",
      "(559, 28, 28, 1)\n",
      "(736, 28, 28, 1)\n",
      "(313, 28, 28, 1)\n",
      "(247, 28, 28, 1)\n",
      "(46, 28, 28, 1)\n",
      "(536, 28, 28, 1)\n",
      "(828, 28, 28, 1)\n",
      "(565, 28, 28, 1)\n",
      "(270, 28, 28, 1)\n",
      "(617, 28, 28, 1)\n",
      "(1209, 28, 28, 1)\n",
      "(105, 28, 28, 1)\n",
      "(307, 28, 28, 1)\n",
      "(661, 28, 28, 1)\n",
      "(1195, 28, 28, 1)\n",
      "(71, 28, 28, 1)\n",
      "(1839, 28, 28, 1)\n",
      "(1169, 28, 28, 1)\n",
      "(691, 28, 28, 1)\n",
      "(32, 28, 28, 1)\n",
      "(74, 28, 28, 1)\n",
      "(40, 28, 28, 1)\n",
      "(54, 28, 28, 1)\n",
      "(432, 28, 28, 1)\n",
      "(287, 28, 28, 1)\n",
      "(423, 28, 28, 1)\n",
      "(644, 28, 28, 1)\n",
      "(456, 28, 28, 1)\n",
      "(691, 28, 28, 1)\n",
      "(30, 28, 28, 1)\n",
      "(315, 28, 28, 1)\n",
      "(988, 28, 28, 1)\n",
      "(126, 28, 28, 1)\n",
      "(487, 28, 28, 1)\n",
      "(267, 28, 28, 1)\n",
      "(297, 28, 28, 1)\n",
      "(431, 28, 28, 1)\n",
      "(603, 28, 28, 1)\n",
      "(485, 28, 28, 1)\n",
      "(58, 28, 28, 1)\n",
      "(467, 28, 28, 1)\n",
      "(190, 28, 28, 1)\n",
      "(1191, 28, 28, 1)\n",
      "(529, 28, 28, 1)\n",
      "(306, 28, 28, 1)\n",
      "(797, 28, 28, 1)\n",
      "(117, 28, 28, 1)\n",
      "(257, 28, 28, 1)\n",
      "(179, 28, 28, 1)\n",
      "(231, 28, 28, 1)\n",
      "(492, 28, 28, 1)\n",
      "(934, 28, 28, 1)\n",
      "(1645, 28, 28, 1)\n",
      "(525, 28, 28, 1)\n",
      "(319, 28, 28, 1)\n",
      "(581, 28, 28, 1)\n",
      "(23, 28, 28, 1)\n",
      "(35, 28, 28, 1)\n",
      "(1832, 28, 28, 1)\n",
      "(584, 28, 28, 1)\n",
      "(1118, 28, 28, 1)\n",
      "(246, 28, 28, 1)\n",
      "(1901, 28, 28, 1)\n",
      "(719, 28, 28, 1)\n",
      "(2477, 28, 28, 1)\n",
      "(1072, 28, 28, 1)\n",
      "(817, 28, 28, 1)\n",
      "(362, 28, 28, 1)\n",
      "(75, 28, 28, 1)\n",
      "(1099, 28, 28, 1)\n",
      "(647, 28, 28, 1)\n",
      "(407, 28, 28, 1)\n",
      "(329, 28, 28, 1)\n",
      "(603, 28, 28, 1)\n",
      "(105, 28, 28, 1)\n",
      "(482, 28, 28, 1)\n",
      "(134, 28, 28, 1)\n",
      "(402, 28, 28, 1)\n",
      "(110, 28, 28, 1)\n",
      "(1201, 28, 28, 1)\n",
      "(536, 28, 28, 1)\n",
      "(595, 28, 28, 1)\n",
      "(167, 28, 28, 1)\n",
      "(469, 28, 28, 1)\n",
      "(100, 28, 28, 1)\n",
      "(1119, 28, 28, 1)\n",
      "(310, 28, 28, 1)\n",
      "(375, 28, 28, 1)\n",
      "(122, 28, 28, 1)\n",
      "(501, 28, 28, 1)\n",
      "(764, 28, 28, 1)\n"
     ]
    }
   ],
   "source": [
    "fed = FederatedSystem(data['Client Train Data'], adv_labels)\n",
    "fed.SetTestData({'Test Data': data['Client Test Data'], 'Test Labels': data['Client Test Labels']})\n",
    "for x in data['Client Train Data']:\n",
    "    print(x.shape)"
   ]
  },
  {
   "cell_type": "code",
   "execution_count": 8,
   "metadata": {},
   "outputs": [
    {
     "name": "stdout",
     "output_type": "stream",
     "text": [
      "Round 1\n",
      "Round 2\n",
      "Round 3\n",
      "Round 4\n",
      "Round 5\n"
     ]
    }
   ],
   "source": [
    "w, b, tally = fed.ASD_FedAvg(rounds = 5)"
   ]
  },
  {
   "cell_type": "code",
   "execution_count": 9,
   "metadata": {},
   "outputs": [
    {
     "data": {
      "text/plain": [
       "[0,\n",
       " 0,\n",
       " 0,\n",
       " 0,\n",
       " 5,\n",
       " 0,\n",
       " 0,\n",
       " 0,\n",
       " 0,\n",
       " 0,\n",
       " 0,\n",
       " 0,\n",
       " 0,\n",
       " 0,\n",
       " 0,\n",
       " 0,\n",
       " 0,\n",
       " 0,\n",
       " 0,\n",
       " 0,\n",
       " 0,\n",
       " 0,\n",
       " 0,\n",
       " 0,\n",
       " 0,\n",
       " 0,\n",
       " 0,\n",
       " 0,\n",
       " 0,\n",
       " 0,\n",
       " 0,\n",
       " 0,\n",
       " 0,\n",
       " 0,\n",
       " 0,\n",
       " 0,\n",
       " 0,\n",
       " 0,\n",
       " 0,\n",
       " 0,\n",
       " 0,\n",
       " 0,\n",
       " 0,\n",
       " 0,\n",
       " 0,\n",
       " 0,\n",
       " 0,\n",
       " 0,\n",
       " 0,\n",
       " 0,\n",
       " 0,\n",
       " 0,\n",
       " 0,\n",
       " 0,\n",
       " 0,\n",
       " 0,\n",
       " 0,\n",
       " 0,\n",
       " 0,\n",
       " 0,\n",
       " 0,\n",
       " 0,\n",
       " 0,\n",
       " 0,\n",
       " 0,\n",
       " 0,\n",
       " 0,\n",
       " 0,\n",
       " 0,\n",
       " 0,\n",
       " 0,\n",
       " 0,\n",
       " 0,\n",
       " 0,\n",
       " 0,\n",
       " 0,\n",
       " 0,\n",
       " 0,\n",
       " 0,\n",
       " 0,\n",
       " 0,\n",
       " 0,\n",
       " 0,\n",
       " 0,\n",
       " 0,\n",
       " 0,\n",
       " 0,\n",
       " 0,\n",
       " 0,\n",
       " 0,\n",
       " 0,\n",
       " 0,\n",
       " 0,\n",
       " 0,\n",
       " 0,\n",
       " 0,\n",
       " 0,\n",
       " 0,\n",
       " 0,\n",
       " 0]"
      ]
     },
     "execution_count": 9,
     "metadata": {},
     "output_type": "execute_result"
    }
   ],
   "source": [
    "tally"
   ]
  },
  {
   "cell_type": "code",
   "execution_count": 5,
   "metadata": {},
   "outputs": [],
   "source": [
    "w, b = conv_pca(w, b)"
   ]
  },
  {
   "cell_type": "code",
   "execution_count": 6,
   "metadata": {},
   "outputs": [
    {
     "data": {
      "text/plain": [
       "3"
      ]
     },
     "execution_count": 6,
     "metadata": {},
     "output_type": "execute_result"
    }
   ],
   "source": [
    "len(w)"
   ]
  },
  {
   "cell_type": "code",
   "execution_count": 17,
   "metadata": {},
   "outputs": [
    {
     "data": {
      "text/plain": [
       "array([ 5.39464764e-02,  1.06374964e-01,  8.97146389e-03, -1.88371912e-02,\n",
       "        2.11697035e-02, -1.92297399e-02,  2.00060825e-03, -1.39843998e-02,\n",
       "       -2.16611050e-04,  9.44822389e-08, -2.79247295e-02,  3.42080742e-02],\n",
       "      dtype=float32)"
      ]
     },
     "execution_count": 17,
     "metadata": {},
     "output_type": "execute_result"
    }
   ],
   "source": [
    "np.append(w[0][0], b[0][0])"
   ]
  },
  {
   "cell_type": "code",
   "execution_count": 73,
   "metadata": {},
   "outputs": [
    {
     "data": {
      "text/html": [
       "<style>#sk-container-id-5 {color: black;background-color: white;}#sk-container-id-5 pre{padding: 0;}#sk-container-id-5 div.sk-toggleable {background-color: white;}#sk-container-id-5 label.sk-toggleable__label {cursor: pointer;display: block;width: 100%;margin-bottom: 0;padding: 0.3em;box-sizing: border-box;text-align: center;}#sk-container-id-5 label.sk-toggleable__label-arrow:before {content: \"▸\";float: left;margin-right: 0.25em;color: #696969;}#sk-container-id-5 label.sk-toggleable__label-arrow:hover:before {color: black;}#sk-container-id-5 div.sk-estimator:hover label.sk-toggleable__label-arrow:before {color: black;}#sk-container-id-5 div.sk-toggleable__content {max-height: 0;max-width: 0;overflow: hidden;text-align: left;background-color: #f0f8ff;}#sk-container-id-5 div.sk-toggleable__content pre {margin: 0.2em;color: black;border-radius: 0.25em;background-color: #f0f8ff;}#sk-container-id-5 input.sk-toggleable__control:checked~div.sk-toggleable__content {max-height: 200px;max-width: 100%;overflow: auto;}#sk-container-id-5 input.sk-toggleable__control:checked~label.sk-toggleable__label-arrow:before {content: \"▾\";}#sk-container-id-5 div.sk-estimator input.sk-toggleable__control:checked~label.sk-toggleable__label {background-color: #d4ebff;}#sk-container-id-5 div.sk-label input.sk-toggleable__control:checked~label.sk-toggleable__label {background-color: #d4ebff;}#sk-container-id-5 input.sk-hidden--visually {border: 0;clip: rect(1px 1px 1px 1px);clip: rect(1px, 1px, 1px, 1px);height: 1px;margin: -1px;overflow: hidden;padding: 0;position: absolute;width: 1px;}#sk-container-id-5 div.sk-estimator {font-family: monospace;background-color: #f0f8ff;border: 1px dotted black;border-radius: 0.25em;box-sizing: border-box;margin-bottom: 0.5em;}#sk-container-id-5 div.sk-estimator:hover {background-color: #d4ebff;}#sk-container-id-5 div.sk-parallel-item::after {content: \"\";width: 100%;border-bottom: 1px solid gray;flex-grow: 1;}#sk-container-id-5 div.sk-label:hover label.sk-toggleable__label {background-color: #d4ebff;}#sk-container-id-5 div.sk-serial::before {content: \"\";position: absolute;border-left: 1px solid gray;box-sizing: border-box;top: 0;bottom: 0;left: 50%;z-index: 0;}#sk-container-id-5 div.sk-serial {display: flex;flex-direction: column;align-items: center;background-color: white;padding-right: 0.2em;padding-left: 0.2em;position: relative;}#sk-container-id-5 div.sk-item {position: relative;z-index: 1;}#sk-container-id-5 div.sk-parallel {display: flex;align-items: stretch;justify-content: center;background-color: white;position: relative;}#sk-container-id-5 div.sk-item::before, #sk-container-id-5 div.sk-parallel-item::before {content: \"\";position: absolute;border-left: 1px solid gray;box-sizing: border-box;top: 0;bottom: 0;left: 50%;z-index: -1;}#sk-container-id-5 div.sk-parallel-item {display: flex;flex-direction: column;z-index: 1;position: relative;background-color: white;}#sk-container-id-5 div.sk-parallel-item:first-child::after {align-self: flex-end;width: 50%;}#sk-container-id-5 div.sk-parallel-item:last-child::after {align-self: flex-start;width: 50%;}#sk-container-id-5 div.sk-parallel-item:only-child::after {width: 0;}#sk-container-id-5 div.sk-dashed-wrapped {border: 1px dashed gray;margin: 0 0.4em 0.5em 0.4em;box-sizing: border-box;padding-bottom: 0.4em;background-color: white;}#sk-container-id-5 div.sk-label label {font-family: monospace;font-weight: bold;display: inline-block;line-height: 1.2em;}#sk-container-id-5 div.sk-label-container {text-align: center;}#sk-container-id-5 div.sk-container {/* jupyter's `normalize.less` sets `[hidden] { display: none; }` but bootstrap.min.css set `[hidden] { display: none !important; }` so we also need the `!important` here to be able to override the default hidden behavior on the sphinx rendered scikit-learn.org. See: https://github.com/scikit-learn/scikit-learn/issues/21755 */display: inline-block !important;position: relative;}#sk-container-id-5 div.sk-text-repr-fallback {display: none;}</style><div id=\"sk-container-id-5\" class=\"sk-top-container\"><div class=\"sk-text-repr-fallback\"><pre>PCA(n_components=10)</pre><b>In a Jupyter environment, please rerun this cell to show the HTML representation or trust the notebook. <br />On GitHub, the HTML representation is unable to render, please try loading this page with nbviewer.org.</b></div><div class=\"sk-container\" hidden><div class=\"sk-item\"><div class=\"sk-estimator sk-toggleable\"><input class=\"sk-toggleable__control sk-hidden--visually\" id=\"sk-estimator-id-5\" type=\"checkbox\" checked><label for=\"sk-estimator-id-5\" class=\"sk-toggleable__label sk-toggleable__label-arrow\">PCA</label><div class=\"sk-toggleable__content\"><pre>PCA(n_components=10)</pre></div></div></div></div></div>"
      ],
      "text/plain": [
       "PCA(n_components=10)"
      ]
     },
     "execution_count": 73,
     "metadata": {},
     "output_type": "execute_result"
    }
   ],
   "source": []
  },
  {
   "cell_type": "code",
   "execution_count": 74,
   "metadata": {},
   "outputs": [
    {
     "data": {
      "text/plain": [
       "1.0"
      ]
     },
     "execution_count": 74,
     "metadata": {},
     "output_type": "execute_result"
    }
   ],
   "source": []
  },
  {
   "cell_type": "code",
   "execution_count": 65,
   "metadata": {},
   "outputs": [
    {
     "data": {
      "text/plain": [
       "(10, 1960)"
      ]
     },
     "execution_count": 65,
     "metadata": {},
     "output_type": "execute_result"
    }
   ],
   "source": []
  },
  {
   "cell_type": "code",
   "execution_count": 5,
   "metadata": {},
   "outputs": [
    {
     "data": {
      "text/plain": [
       "[[2.6810755729675293, 0.08531428873538971],\n",
       " [0.27996382117271423, 0.9153714179992676],\n",
       " [0.18870413303375244, 0.9434857368469238],\n",
       " [0.15364165604114532, 0.9529713988304138],\n",
       " [0.13714595139026642, 0.9578285813331604],\n",
       " [0.12778568267822266, 0.961485743522644]]"
      ]
     },
     "execution_count": 5,
     "metadata": {},
     "output_type": "execute_result"
    }
   ],
   "source": [
    "loss = fed.test_loss()\n",
    "loss"
   ]
  },
  {
   "cell_type": "code",
   "execution_count": 20,
   "metadata": {},
   "outputs": [],
   "source": [
    "adv_data = dataHandler.generate_data()\n",
    "adv_labels = dataHandler.create_adversary(adv_data['Client Train Labels'], 8, 4, 9)\n",
    "adv_labels = dataHandler.create_adversary(adv_labels, 8, 2, 4)\n",
    "adv_labels = dataHandler.create_adversary(adv_labels, 8, 1, 7)"
   ]
  },
  {
   "cell_type": "code",
   "execution_count": 21,
   "metadata": {},
   "outputs": [],
   "source": [
    "adv_fed = FederatedSystem(data['Client Train Data'], adv_labels)\n",
    "adv_fed.SetTestData({'Test Data': data['Client Test Data'], 'Test Labels': data['Client Test Labels']})"
   ]
  },
  {
   "cell_type": "code",
   "execution_count": 22,
   "metadata": {},
   "outputs": [
    {
     "name": "stdout",
     "output_type": "stream",
     "text": [
      "Round 1\n",
      "Round 2\n",
      "Round 3\n",
      "Round 4\n",
      "Round 5\n"
     ]
    }
   ],
   "source": [
    "w, b = adv_fed.FedAvg(rounds = 5)"
   ]
  },
  {
   "cell_type": "code",
   "execution_count": 23,
   "metadata": {},
   "outputs": [
    {
     "data": {
      "text/plain": [
       "[[2.6810755729675293, 0.08531428873538971],\n",
       " [0.4295162856578827, 0.8666285872459412],\n",
       " [0.2379111349582672, 0.9278285503387451],\n",
       " [0.1935042291879654, 0.9410285949707031],\n",
       " [0.1722782701253891, 0.9481714367866516],\n",
       " [0.16036725044250488, 0.9509714245796204]]"
      ]
     },
     "execution_count": 23,
     "metadata": {},
     "output_type": "execute_result"
    }
   ],
   "source": [
    "adv_loss = adv_fed.test_loss()\n",
    "adv_loss"
   ]
  },
  {
   "cell_type": "code",
   "execution_count": 24,
   "metadata": {},
   "outputs": [
    {
     "data": {
      "text/plain": [
       "9610"
      ]
     },
     "execution_count": 24,
     "metadata": {},
     "output_type": "execute_result"
    }
   ],
   "source": [
    "len(adv_labels[8])"
   ]
  },
  {
   "cell_type": "code",
   "execution_count": null,
   "metadata": {},
   "outputs": [],
   "source": []
  }
 ],
 "metadata": {
  "kernelspec": {
   "display_name": "Python 3.10.7 64-bit",
   "language": "python",
   "name": "python3"
  },
  "language_info": {
   "codemirror_mode": {
    "name": "ipython",
    "version": 3
   },
   "file_extension": ".py",
   "mimetype": "text/x-python",
   "name": "python",
   "nbconvert_exporter": "python",
   "pygments_lexer": "ipython3",
   "version": "3.10.7"
  },
  "orig_nbformat": 4,
  "vscode": {
   "interpreter": {
    "hash": "ba14182f2addf8401c8bd3cfab2a612ede3e43383081db6c97cf7288d8247d9f"
   }
  }
 },
 "nbformat": 4,
 "nbformat_minor": 2
}
